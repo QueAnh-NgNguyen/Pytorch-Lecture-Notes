{
 "cells": [
  {
   "cell_type": "markdown",
   "id": "c322df25",
   "metadata": {},
   "source": [
    "# Check PyTorch in your anaconda"
   ]
  },
  {
   "cell_type": "code",
   "execution_count": 1,
   "id": "285ce54a",
   "metadata": {},
   "outputs": [
    {
     "name": "stdout",
     "output_type": "stream",
     "text": [
      "tensor([[0.9962, 0.2155, 0.3744],\n",
      "        [0.1110, 0.6797, 0.8736],\n",
      "        [0.0893, 0.1753, 0.7740],\n",
      "        [0.6276, 0.9398, 0.2960],\n",
      "        [0.7354, 0.0955, 0.4253]])\n"
     ]
    }
   ],
   "source": [
    "import torch\n",
    "x = torch.rand(5, 3)\n",
    "print(x)"
   ]
  },
  {
   "cell_type": "code",
   "execution_count": 2,
   "id": "b1619276",
   "metadata": {},
   "outputs": [
    {
     "data": {
      "text/plain": [
       "True"
      ]
     },
     "execution_count": 2,
     "metadata": {},
     "output_type": "execute_result"
    }
   ],
   "source": [
    "import torch\n",
    "torch.cuda.is_available()"
   ]
  },
  {
   "cell_type": "markdown",
   "id": "dc4708da",
   "metadata": {},
   "source": [
    "# Tensor data structure Introduction:\n",
    "Tensors is an n-dimensional array data structure, which supports us to calculate matrix similar to numpy array, but it can run on both CPU and GPU. Tensors are optimized for AutoGrad derivative calculations."
   ]
  },
  {
   "cell_type": "code",
   "execution_count": 3,
   "id": "c5571d7c",
   "metadata": {},
   "outputs": [],
   "source": [
    "import torch\n",
    "import numpy as np"
   ]
  },
  {
   "cell_type": "markdown",
   "id": "0f250b9a",
   "metadata": {},
   "source": [
    "# 1. Create Tensor\n",
    "### 1.1 directly from data"
   ]
  },
  {
   "cell_type": "code",
   "execution_count": 4,
   "id": "0c88ee12",
   "metadata": {},
   "outputs": [
    {
     "data": {
      "text/plain": [
       "tensor([[1, 2],\n",
       "        [3, 4]])"
      ]
     },
     "execution_count": 4,
     "metadata": {},
     "output_type": "execute_result"
    }
   ],
   "source": [
    "# The data type is automatically inferred.\n",
    "data = [[1, 2],[3, 4]]\n",
    "tensor_data = torch.tensor(data)\n",
    "tensor_data"
   ]
  },
  {
   "cell_type": "markdown",
   "id": "79aec1e7",
   "metadata": {},
   "source": [
    "### 1.2 Create Tensor directly from Numpy Array"
   ]
  },
  {
   "cell_type": "code",
   "execution_count": 5,
   "id": "7faf37df",
   "metadata": {},
   "outputs": [
    {
     "data": {
      "text/plain": [
       "tensor([[1, 2],\n",
       "        [3, 4]], dtype=torch.int32)"
      ]
     },
     "execution_count": 5,
     "metadata": {},
     "output_type": "execute_result"
    }
   ],
   "source": [
    "np_array = np.array(data)\n",
    "tensor_from_np = torch.from_numpy(np_array)\n",
    "tensor_from_np"
   ]
  },
  {
   "cell_type": "markdown",
   "id": "12cef10d",
   "metadata": {},
   "source": [
    "### 1.3   from another tensor"
   ]
  },
  {
   "cell_type": "code",
   "execution_count": 6,
   "id": "8d51e977",
   "metadata": {},
   "outputs": [
    {
     "name": "stdout",
     "output_type": "stream",
     "text": [
      "Ones Tensor: \n",
      " tensor([[1, 1],\n",
      "        [1, 1]]) \n",
      "\n",
      "Random Tensor: \n",
      " tensor([[0.3438, 0.3937],\n",
      "        [0.6611, 0.7130]]) \n",
      "\n"
     ]
    }
   ],
   "source": [
    "x_ones = torch.ones_like(tensor_data) # retains the properties of x_data\n",
    "print(f\"Ones Tensor: \\n {x_ones} \\n\")\n",
    "\n",
    "x_rand = torch.rand_like(tensor_data, dtype=torch.float) # overrides the datatype of x_data\n",
    "print(f\"Random Tensor: \\n {x_rand} \\n\")"
   ]
  },
  {
   "cell_type": "markdown",
   "id": "9692172e",
   "metadata": {},
   "source": [
    "### 1.4 from a constant"
   ]
  },
  {
   "cell_type": "markdown",
   "id": "c07f44c0",
   "metadata": {},
   "source": [
    "shape is a kind of tuple which repesent n-dimesions of a tensor"
   ]
  },
  {
   "cell_type": "code",
   "execution_count": 7,
   "id": "768e746a",
   "metadata": {},
   "outputs": [
    {
     "name": "stdout",
     "output_type": "stream",
     "text": [
      "Random Tensor: \n",
      " tensor([[0.4181, 0.6533, 0.3484],\n",
      "        [0.8111, 0.6887, 0.8871]]) \n",
      "\n",
      "Ones Tensor: \n",
      " tensor([[1., 1., 1.],\n",
      "        [1., 1., 1.]]) \n",
      "\n",
      "Zeros Tensor: \n",
      " tensor([[0., 0., 0.],\n",
      "        [0., 0., 0.]])\n"
     ]
    }
   ],
   "source": [
    "shape = (2,3,)\n",
    "rand_tensor = torch.rand(shape)\n",
    "ones_tensor = torch.ones(shape)\n",
    "zeros_tensor = torch.zeros(shape)\n",
    "\n",
    "print(f\"Random Tensor: \\n {rand_tensor} \\n\")\n",
    "print(f\"Ones Tensor: \\n {ones_tensor} \\n\")\n",
    "print(f\"Zeros Tensor: \\n {zeros_tensor}\")"
   ]
  },
  {
   "cell_type": "markdown",
   "id": "a6a17e3a",
   "metadata": {},
   "source": [
    "# 2. Properties of Tensor\n",
    "including shape, datatype, and device"
   ]
  },
  {
   "cell_type": "code",
   "execution_count": 8,
   "id": "d0736cad",
   "metadata": {},
   "outputs": [
    {
     "name": "stdout",
     "output_type": "stream",
     "text": [
      "Shape of tensor: torch.Size([3, 4])\n",
      "Datatype of tensor: torch.float32\n",
      "Device tensor is stored on: cpu\n"
     ]
    }
   ],
   "source": [
    "tensor = torch.rand(3,4)\n",
    "\n",
    "print(f\"Shape of tensor: {tensor.shape}\")\n",
    "print(f\"Datatype of tensor: {tensor.dtype}\")\n",
    "print(f\"Device tensor is stored on: {tensor.device}\")"
   ]
  },
  {
   "cell_type": "markdown",
   "id": "d02f2f92",
   "metadata": {},
   "source": [
    "# Tensor maths\n",
    "There are many maths on tensors (>100) including arithmetic, algebra, matrix, random... Reference link: https://pytorch.org/docs/stable/torch.html."
   ]
  },
  {
   "cell_type": "markdown",
   "id": "54824376",
   "metadata": {},
   "source": [
    "Tensor maths are capable of running on the GPU (which will usually be faster than the CPU).\n",
    "\n",
    "Tensors are initialized by default on the CPU. Using .to(device) convert tensors to GPU.\n",
    "\n",
    "Note: transferring large amounts of tensors between devices can be time consuming and memory intensive"
   ]
  },
  {
   "cell_type": "code",
   "execution_count": 9,
   "id": "e3c8847b",
   "metadata": {},
   "outputs": [
    {
     "data": {
      "text/plain": [
       "tensor([[0.8675, 0.5299, 0.0769, 0.0608],\n",
       "        [0.7778, 0.2030, 0.9361, 0.7472],\n",
       "        [0.3654, 0.4420, 0.7452, 0.8739]], device='cuda:0')"
      ]
     },
     "execution_count": 9,
     "metadata": {},
     "output_type": "execute_result"
    }
   ],
   "source": [
    "# We move our tensor to the GPU if available\n",
    "if torch.cuda.is_available():\n",
    "    tensor = tensor.to('cuda')\n",
    "    \n",
    "tensor"
   ]
  },
  {
   "cell_type": "markdown",
   "id": "d6ac5f49",
   "metadata": {},
   "source": [
    "### 2.1 Indexing and slicing (similar to numpy):"
   ]
  },
  {
   "cell_type": "code",
   "execution_count": 12,
   "id": "c12e222b",
   "metadata": {},
   "outputs": [
    {
     "data": {
      "text/plain": [
       "tensor([[8, 0, 9, 5],\n",
       "        [4, 8, 0, 4],\n",
       "        [3, 0, 2, 0],\n",
       "        [6, 8, 0, 5]])"
      ]
     },
     "metadata": {},
     "output_type": "display_data"
    },
    {
     "name": "stdout",
     "output_type": "stream",
     "text": [
      "First row:  tensor([8, 0, 9, 5])\n",
      "First column:  tensor([8, 4, 3, 6])\n",
      "Last column: tensor([5, 4, 0, 5])\n",
      "tensor([[8, 0, 9, 5],\n",
      "        [4, 0, 0, 4],\n",
      "        [3, 0, 2, 0],\n",
      "        [6, 0, 0, 5]])\n"
     ]
    }
   ],
   "source": [
    "tensor = torch.randint(10, (4, 4))\n",
    "display(tensor)\n",
    "\n",
    "print('First row: ', tensor[0])\n",
    "print('First column: ', tensor[:, 0])\n",
    "print('Last column:', tensor[:, -1])\n",
    "tensor[:,1] = 0\n",
    "print(tensor)"
   ]
  },
  {
   "cell_type": "markdown",
   "id": "3d4aac9e",
   "metadata": {},
   "source": [
    "### 2.2. Joining tensors"
   ]
  },
  {
   "cell_type": "code",
   "execution_count": 13,
   "id": "3308888f",
   "metadata": {},
   "outputs": [
    {
     "data": {
      "text/plain": [
       "torch.Size([4, 4])"
      ]
     },
     "metadata": {},
     "output_type": "display_data"
    },
    {
     "data": {
      "text/plain": [
       "torch.Size([4, 12])"
      ]
     },
     "metadata": {},
     "output_type": "display_data"
    },
    {
     "name": "stdout",
     "output_type": "stream",
     "text": [
      "tensor([[8, 0, 9, 5, 8, 0, 9, 5, 8, 0, 9, 5],\n",
      "        [4, 0, 0, 4, 4, 0, 0, 4, 4, 0, 0, 4],\n",
      "        [3, 0, 2, 0, 3, 0, 2, 0, 3, 0, 2, 0],\n",
      "        [6, 0, 0, 5, 6, 0, 0, 5, 6, 0, 0, 5]])\n"
     ]
    }
   ],
   "source": [
    "# we use cat() of torch package\n",
    "t1 = torch.cat([tensor, tensor, tensor], dim=1)\n",
    "display(tensor.shape)\n",
    "display(t1.shape)\n",
    "print(t1)"
   ]
  },
  {
   "cell_type": "markdown",
   "id": "ebddf60f",
   "metadata": {},
   "source": [
    "### 2.3 Tensor arithmetic "
   ]
  },
  {
   "cell_type": "code",
   "execution_count": 21,
   "id": "344013f5",
   "metadata": {},
   "outputs": [
    {
     "data": {
      "text/plain": [
       "tensor([[170,  52,  42,  73],\n",
       "        [ 52,  32,  12,  44],\n",
       "        [ 42,  12,  13,  18],\n",
       "        [ 73,  44,  18,  61]])"
      ]
     },
     "metadata": {},
     "output_type": "display_data"
    },
    {
     "data": {
      "text/plain": [
       "tensor([[170,  52,  42,  73],\n",
       "        [ 52,  32,  12,  44],\n",
       "        [ 42,  12,  13,  18],\n",
       "        [ 73,  44,  18,  61]])"
      ]
     },
     "metadata": {},
     "output_type": "display_data"
    },
    {
     "data": {
      "text/plain": [
       "tensor([[170,  52,  42,  73],\n",
       "        [ 52,  32,  12,  44],\n",
       "        [ 42,  12,  13,  18],\n",
       "        [ 73,  44,  18,  61]])"
      ]
     },
     "metadata": {},
     "output_type": "display_data"
    },
    {
     "data": {
      "text/plain": [
       "tensor([[64,  0, 81, 25],\n",
       "        [16,  0,  0, 16],\n",
       "        [ 9,  0,  4,  0],\n",
       "        [36,  0,  0, 25]])"
      ]
     },
     "metadata": {},
     "output_type": "display_data"
    },
    {
     "data": {
      "text/plain": [
       "tensor([[64,  0, 81, 25],\n",
       "        [16,  0,  0, 16],\n",
       "        [ 9,  0,  4,  0],\n",
       "        [36,  0,  0, 25]])"
      ]
     },
     "metadata": {},
     "output_type": "display_data"
    },
    {
     "data": {
      "text/plain": [
       "tensor([[64,  0, 81, 25],\n",
       "        [16,  0,  0, 16],\n",
       "        [ 9,  0,  4,  0],\n",
       "        [36,  0,  0, 25]])"
      ]
     },
     "metadata": {},
     "output_type": "display_data"
    }
   ],
   "source": [
    "# Matrix multiplication. y1, y2, y3 give the same result\n",
    "y1 = tensor @ tensor.T\n",
    "y2 = tensor.matmul(tensor.T)\n",
    "y3 = torch.ones_like(tensor)\n",
    "\n",
    "torch.matmul(tensor, tensor.T, out=y3)\n",
    "display(y1, y2, y3)\n",
    "\n",
    "# Element-wise multiplication\n",
    "z1 = tensor * tensor\n",
    "z2 = tensor.mul(tensor)\n",
    "z3 = torch.ones_like(tensor)\n",
    "torch.mul(tensor, tensor, out=z3)\n",
    "\n",
    "display(z1, z2, z3)"
   ]
  },
  {
   "cell_type": "markdown",
   "id": "38b2a4c1",
   "metadata": {},
   "source": [
    "### Single-element tensors "
   ]
  },
  {
   "cell_type": "code",
   "execution_count": 22,
   "id": "727783c7",
   "metadata": {},
   "outputs": [
    {
     "name": "stdout",
     "output_type": "stream",
     "text": [
      "46 <class 'int'>\n"
     ]
    }
   ],
   "source": [
    "# One-element tensor can be converted to a number in Python using the item() function.\n",
    "agg = tensor.sum()\n",
    "agg_item = agg.item()\n",
    "print(agg_item, type(agg_item))\n"
   ]
  },
  {
   "cell_type": "markdown",
   "id": "02e46118",
   "metadata": {},
   "source": [
    "### In-place \n",
    "Save the result in the function call variable. Indicated by the suffix _.\n",
    "\n",
    "For example, x.copy_(y), x.t_() will change the variable x."
   ]
  },
  {
   "cell_type": "code",
   "execution_count": 26,
   "id": "15ef6ea8",
   "metadata": {},
   "outputs": [
    {
     "name": "stdout",
     "output_type": "stream",
     "text": [
      "tensor([[13,  5, 14, 10],\n",
      "        [ 9,  5,  5,  9],\n",
      "        [ 8,  5,  7,  5],\n",
      "        [11,  5,  5, 10]]) \n",
      "\n",
      "tensor([[18, 10, 19, 15],\n",
      "        [14, 10, 10, 14],\n",
      "        [13, 10, 12, 10],\n",
      "        [16, 10, 10, 15]])\n"
     ]
    }
   ],
   "source": [
    "print(tensor, \"\\n\")\n",
    "tensor.add_(5)\n",
    "print(tensor)"
   ]
  },
  {
   "cell_type": "markdown",
   "id": "f3fd7457",
   "metadata": {},
   "source": [
    "# 3. Relate to NumPy\n",
    "Tensors on CPUs and NumPy arrays can share the same memory address, so changing one will change the other."
   ]
  },
  {
   "cell_type": "markdown",
   "id": "5915cff3",
   "metadata": {},
   "source": [
    "### 3.1 From Tensor to NumPy array"
   ]
  },
  {
   "cell_type": "code",
   "execution_count": 36,
   "id": "f454890a",
   "metadata": {},
   "outputs": [
    {
     "name": "stdout",
     "output_type": "stream",
     "text": [
      "t: tensor([1., 1., 1., 1., 1.])\n",
      "n: [1. 1. 1. 1. 1.]\n"
     ]
    }
   ],
   "source": [
    "t = torch.ones(5)\n",
    "print(f\"t: {t}\")\n",
    "n = t.numpy()\n",
    "print(f\"n: {n}\")"
   ]
  },
  {
   "cell_type": "code",
   "execution_count": 39,
   "id": "0a88bf39",
   "metadata": {},
   "outputs": [
    {
     "name": "stdout",
     "output_type": "stream",
     "text": [
      "t: tensor([3., 3., 3., 3., 3.], dtype=torch.float64)\n",
      "n: [3. 3. 3. 3. 3.]\n"
     ]
    }
   ],
   "source": [
    "# Changes of the Tensor can change the NumPy array.\n",
    "t.add_(1)\n",
    "print(f\"t: {t}\")\n",
    "print(f\"n: {n}\")"
   ]
  },
  {
   "cell_type": "markdown",
   "id": "c299c2c7",
   "metadata": {},
   "source": [
    "### 3.2 From NumPy to Tensor array"
   ]
  },
  {
   "cell_type": "code",
   "execution_count": 37,
   "id": "be05e13c",
   "metadata": {},
   "outputs": [],
   "source": [
    "n = np.ones(5)\n",
    "t = torch.from_numpy(n)"
   ]
  },
  {
   "cell_type": "code",
   "execution_count": 40,
   "id": "c34a8729",
   "metadata": {},
   "outputs": [
    {
     "name": "stdout",
     "output_type": "stream",
     "text": [
      "t: tensor([4., 4., 4., 4., 4.], dtype=torch.float64)\n",
      "n: [4. 4. 4. 4. 4.]\n"
     ]
    }
   ],
   "source": [
    "# Changes of the NumPy array can change the Tensor.\n",
    "np.add(n, 1, out=n)\n",
    "print(f\"t: {t}\")\n",
    "print(f\"n: {n}\")"
   ]
  }
 ],
 "metadata": {
  "kernelspec": {
   "display_name": "Python 3 (ipykernel)",
   "language": "python",
   "name": "python3"
  },
  "language_info": {
   "codemirror_mode": {
    "name": "ipython",
    "version": 3
   },
   "file_extension": ".py",
   "mimetype": "text/x-python",
   "name": "python",
   "nbconvert_exporter": "python",
   "pygments_lexer": "ipython3",
   "version": "3.9.12"
  }
 },
 "nbformat": 4,
 "nbformat_minor": 5
}
